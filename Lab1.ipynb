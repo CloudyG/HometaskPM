{
 "cells": [
  {
   "cell_type": "code",
   "execution_count": null,
   "metadata": {},
   "outputs": [],
   "source": [
    "# Your answer here\n",
    "#Creating arbitrary list:\n",
    "import random\n",
    "var = 10\n",
    "resl = []\n",
    "for x in range(var):\n",
    "    y = random.randrange(0, 9)\n",
    "    resl.append(y)\n",
    "print(resl)\n",
    "\n",
    "#Creating tuple:\n",
    "rest = tuple(resl) + (\"apple\", \"car\")\n",
    "print(rest)\n",
    "\n",
    "#Creating dictionary:\n",
    "resd = {\"Apple\": 5, \"Pork\": 1, \"Cashew\": 30}\n",
    "print(resd)"
   ]
  },
  {
   "cell_type": "code",
   "execution_count": null,
   "metadata": {},
   "outputs": [],
   "source": [
    "import numpy as np\n",
    "s = np.random.normal(0,1,100)\n",
    "#10th element\n",
    "res10 = s[9]\n",
    "print(res10)\n",
    "\n",
    "#10 to 20\n",
    "res1020 = s[9:19]\n",
    "print(res1020)\n",
    "\n",
    "#elements more than 0\n",
    "res0 = []\n",
    "for x in s:\n",
    "    if x > 0:\n",
    "        res0.append(x)\n",
    "print(res0)\n",
    "    "
   ]
  },
  {
   "cell_type": "code",
   "execution_count": null,
   "metadata": {},
   "outputs": [],
   "source": [
    "def pow(number, power):\n",
    "    if power >=50:\n",
    "        print(\"power is too big\")\n",
    "        number = -1\n",
    "        return number\n",
    "    else:\n",
    "        return number**power\n",
    "\n"
   ]
  },
  {
   "cell_type": "code",
   "execution_count": null,
   "metadata": {},
   "outputs": [],
   "source": [
    "import numpy as np\n",
    "def above(x,n=10):\n",
    "    res = []\n",
    "    for y in x:\n",
    "        if y > n:\n",
    "            res.append(y)\n",
    "    return res\n",
    "x = np.random.normal(-100,100,100)\n",
    "print(above(x))"
   ]
  },
  {
   "cell_type": "code",
   "execution_count": null,
   "metadata": {},
   "outputs": [],
   "source": [
    "import numpy as np\n",
    "def my_ifelse(x, exp, n):\n",
    "    res = []\n",
    "    if exp == '=':\n",
    "        exp = '=='\n",
    "    for y in x:\n",
    "        if eval(str(y) + ' ' + exp + ' ' + str(n)):\n",
    "            res.append(y)\n",
    "    return res\n",
    "x = np.random.normal(-100,100,100)\n",
    "print(my_ifelse(x, \"<=\", 10))\n"
   ]
  },
  {
   "cell_type": "code",
   "execution_count": 76,
   "metadata": {},
   "outputs": [
    {
     "name": "stdout",
     "output_type": "stream",
     "text": [
      "{'a': 3, 'b': 2, ' ': 3, 'c': 2, 'd': 2, 'f': 1, 'p': 1, 'o': 1}\n"
     ]
    }
   ],
   "source": [
    "from string import ascii_letters \n",
    "def counter(input_string):\n",
    "    alphabet = ascii_letters\n",
    "    count_letters = {}\n",
    "    for letter in input_string:\n",
    "        if letter in count_letters:\n",
    "            count_letters[letter] += 1\n",
    "        else:\n",
    "            count_letters[letter] = 1\n",
    "    return count_letters\n",
    "x = input()\n",
    "print(counter(x))"
   ]
  },
  {
   "cell_type": "code",
   "execution_count": null,
   "metadata": {},
   "outputs": [],
   "source": [
    "from string import ascii_letters \n",
    "def counter(input_string, reverse = False):\n",
    "    alphabet = ascii_letters\n",
    "    count_letters = {}\n",
    "    for letter in input_string:\n",
    "        if letter in count_letters:\n",
    "            count_letters[letter] += 1\n",
    "        else:\n",
    "            count_letters[letter] = 1\n",
    "    if reverse == False:\n",
    "        return dict(sorted(count_letters.items(), key = lambda item: item[1]))\n",
    "    elif reverse == True:\n",
    "        return dict(sorted(count_letters.items(), key = lambda item: item[1], reverse=True))\n",
    "x = input()\n",
    "print(counter(x, True))"
   ]
  }
 ],
 "metadata": {
  "interpreter": {
   "hash": "84e550792e4b4bf3acd96be1e38e75140ac850e56493bfc23b49998054babce9"
  },
  "kernelspec": {
   "display_name": "Python 3.9.7 ('base')",
   "language": "python",
   "name": "python3"
  },
  "language_info": {
   "codemirror_mode": {
    "name": "ipython",
    "version": 3
   },
   "file_extension": ".py",
   "mimetype": "text/x-python",
   "name": "python",
   "nbconvert_exporter": "python",
   "pygments_lexer": "ipython3",
   "version": "3.9.7"
  },
  "orig_nbformat": 4
 },
 "nbformat": 4,
 "nbformat_minor": 2
}
